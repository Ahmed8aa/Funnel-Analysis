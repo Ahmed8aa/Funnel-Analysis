{
 "cells": [
  {
   "cell_type": "code",
   "execution_count": 30,
   "metadata": {},
   "outputs": [],
   "source": [
    "\n",
    "import pandas as pd"
   ]
  },
  {
   "cell_type": "code",
   "execution_count": 31,
   "metadata": {},
   "outputs": [],
   "source": [
    "import nltk\n",
    "from nltk import word_tokenize,FreqDist\n",
    "from nltk.corpus import stopwords\n",
    "from nltk.sentiment import SentimentIntensityAnalyzer\n",
    "from nltk.collocations import BigramCollocationFinder, TrigramCollocationFinder, QuadgramCollocationFinder\n",
    "from nltk.metrics import BigramAssocMeasures, TrigramAssocMeasures, QuadgramAssocMeasures\n",
    "# nltk.download('stopwords')\n",
    "# nltk.download('punkt')\n",
    "# nltk.download('vader_lexicon')"
   ]
  },
  {
   "cell_type": "code",
   "execution_count": 32,
   "metadata": {},
   "outputs": [],
   "source": [
    "df=pd.read_csv('neg_reviews.csv')"
   ]
  },
  {
   "cell_type": "code",
   "execution_count": 33,
   "metadata": {},
   "outputs": [
    {
     "data": {
      "text/html": [
       "<div>\n",
       "<style scoped>\n",
       "    .dataframe tbody tr th:only-of-type {\n",
       "        vertical-align: middle;\n",
       "    }\n",
       "\n",
       "    .dataframe tbody tr th {\n",
       "        vertical-align: top;\n",
       "    }\n",
       "\n",
       "    .dataframe thead th {\n",
       "        text-align: right;\n",
       "    }\n",
       "</style>\n",
       "<table border=\"1\" class=\"dataframe\">\n",
       "  <thead>\n",
       "    <tr style=\"text-align: right;\">\n",
       "      <th></th>\n",
       "      <th>app_download_key</th>\n",
       "      <th>platform</th>\n",
       "      <th>download_ts</th>\n",
       "      <th>session_id</th>\n",
       "      <th>user_id</th>\n",
       "      <th>age_range</th>\n",
       "      <th>signup_ts</th>\n",
       "      <th>ride_id</th>\n",
       "      <th>driver_id</th>\n",
       "      <th>request_ts</th>\n",
       "      <th>...</th>\n",
       "      <th>pickup_ts</th>\n",
       "      <th>dropoff_ts</th>\n",
       "      <th>cancel_ts</th>\n",
       "      <th>transaction_id</th>\n",
       "      <th>purchase_amount_usd</th>\n",
       "      <th>charge_status</th>\n",
       "      <th>transaction_ts</th>\n",
       "      <th>review_id</th>\n",
       "      <th>rating</th>\n",
       "      <th>review</th>\n",
       "    </tr>\n",
       "  </thead>\n",
       "  <tbody>\n",
       "    <tr>\n",
       "      <th>0</th>\n",
       "      <td>cc3084e020b5744c17888b471f99d507</td>\n",
       "      <td>android</td>\n",
       "      <td>2021-07-07 05:55:30</td>\n",
       "      <td>cc3084e020b5744c17888b471f99d507</td>\n",
       "      <td>109056</td>\n",
       "      <td>18-24</td>\n",
       "      <td>2021-07-07 12:12:30</td>\n",
       "      <td>3000130</td>\n",
       "      <td>116060</td>\n",
       "      <td>2021-12-01 16:11:00</td>\n",
       "      <td>...</td>\n",
       "      <td>2021-12-01 16:19:00</td>\n",
       "      <td>2021-12-01 16:42:00</td>\n",
       "      <td>NaN</td>\n",
       "      <td>10000077</td>\n",
       "      <td>24.79</td>\n",
       "      <td>Approved</td>\n",
       "      <td>2021-12-01 16:42:00</td>\n",
       "      <td>50052</td>\n",
       "      <td>1</td>\n",
       "      <td>Horrible service. The driver was reckless and drove well above the speed limit.</td>\n",
       "    </tr>\n",
       "    <tr>\n",
       "      <th>1</th>\n",
       "      <td>b9fe1f921bdc232cb6ab15968aeb2fdb</td>\n",
       "      <td>ios</td>\n",
       "      <td>2021-11-09 23:36:30</td>\n",
       "      <td>b9fe1f921bdc232cb6ab15968aeb2fdb</td>\n",
       "      <td>115158</td>\n",
       "      <td>35-44</td>\n",
       "      <td>2021-11-10 11:26:30</td>\n",
       "      <td>3000172</td>\n",
       "      <td>102602</td>\n",
       "      <td>2021-11-11 17:56:00</td>\n",
       "      <td>...</td>\n",
       "      <td>2021-11-11 18:11:00</td>\n",
       "      <td>2021-11-11 18:36:00</td>\n",
       "      <td>NaN</td>\n",
       "      <td>10000097</td>\n",
       "      <td>13.92</td>\n",
       "      <td>Approved</td>\n",
       "      <td>2021-11-11 18:36:00</td>\n",
       "      <td>50063</td>\n",
       "      <td>1</td>\n",
       "      <td>A nightmare experience. The driver was rude, and the car was in terrible condition.</td>\n",
       "    </tr>\n",
       "    <tr>\n",
       "      <th>2</th>\n",
       "      <td>26b44061ec0f3ce2fe2cc41e7c648568</td>\n",
       "      <td>ios</td>\n",
       "      <td>2021-04-26 16:08:02</td>\n",
       "      <td>26b44061ec0f3ce2fe2cc41e7c648568</td>\n",
       "      <td>105560</td>\n",
       "      <td>25-34</td>\n",
       "      <td>2021-04-27 11:27:02</td>\n",
       "      <td>3000198</td>\n",
       "      <td>108125</td>\n",
       "      <td>2021-06-20 08:43:00</td>\n",
       "      <td>...</td>\n",
       "      <td>2021-06-20 08:55:00</td>\n",
       "      <td>2021-06-20 10:10:00</td>\n",
       "      <td>NaN</td>\n",
       "      <td>10000115</td>\n",
       "      <td>16.75</td>\n",
       "      <td>Approved</td>\n",
       "      <td>2021-06-20 10:10:00</td>\n",
       "      <td>50074</td>\n",
       "      <td>1</td>\n",
       "      <td>Terrible experience with Metrocar. The driver never showed up, and I had to find an alternative means of transportation.</td>\n",
       "    </tr>\n",
       "    <tr>\n",
       "      <th>3</th>\n",
       "      <td>2b28046a86cf0e4afc0911eea42cb4e1</td>\n",
       "      <td>ios</td>\n",
       "      <td>2021-10-23 20:56:54</td>\n",
       "      <td>2b28046a86cf0e4afc0911eea42cb4e1</td>\n",
       "      <td>114348</td>\n",
       "      <td>Unknown</td>\n",
       "      <td>2021-10-23 22:18:54</td>\n",
       "      <td>3000372</td>\n",
       "      <td>110636</td>\n",
       "      <td>2021-10-24 08:01:00</td>\n",
       "      <td>...</td>\n",
       "      <td>2021-10-24 08:06:00</td>\n",
       "      <td>2021-10-24 08:39:00</td>\n",
       "      <td>NaN</td>\n",
       "      <td>10000220</td>\n",
       "      <td>18.17</td>\n",
       "      <td>Approved</td>\n",
       "      <td>2021-10-24 08:39:00</td>\n",
       "      <td>50150</td>\n",
       "      <td>2</td>\n",
       "      <td>A subpar experience. The driver seemed disinterested and did not follow the preferred route.</td>\n",
       "    </tr>\n",
       "    <tr>\n",
       "      <th>4</th>\n",
       "      <td>3f783386efd79a616acc8b66452887fd</td>\n",
       "      <td>ios</td>\n",
       "      <td>2021-06-22 17:44:29</td>\n",
       "      <td>3f783386efd79a616acc8b66452887fd</td>\n",
       "      <td>108353</td>\n",
       "      <td>25-34</td>\n",
       "      <td>2021-06-24 04:37:29</td>\n",
       "      <td>3000398</td>\n",
       "      <td>101257</td>\n",
       "      <td>2021-06-27 16:44:00</td>\n",
       "      <td>...</td>\n",
       "      <td>2021-06-27 16:59:00</td>\n",
       "      <td>2021-06-27 18:09:00</td>\n",
       "      <td>NaN</td>\n",
       "      <td>10000236</td>\n",
       "      <td>15.35</td>\n",
       "      <td>Approved</td>\n",
       "      <td>2021-06-27 18:09:00</td>\n",
       "      <td>50159</td>\n",
       "      <td>2</td>\n",
       "      <td>Not a great ride with Metrocar. The driver seemed inexperienced and drove recklessly.</td>\n",
       "    </tr>\n",
       "  </tbody>\n",
       "</table>\n",
       "<p>5 rows × 23 columns</p>\n",
       "</div>"
      ],
      "text/plain": [
       "                   app_download_key platform          download_ts  \\\n",
       "0  cc3084e020b5744c17888b471f99d507  android  2021-07-07 05:55:30   \n",
       "1  b9fe1f921bdc232cb6ab15968aeb2fdb      ios  2021-11-09 23:36:30   \n",
       "2  26b44061ec0f3ce2fe2cc41e7c648568      ios  2021-04-26 16:08:02   \n",
       "3  2b28046a86cf0e4afc0911eea42cb4e1      ios  2021-10-23 20:56:54   \n",
       "4  3f783386efd79a616acc8b66452887fd      ios  2021-06-22 17:44:29   \n",
       "\n",
       "                         session_id  user_id age_range            signup_ts  \\\n",
       "0  cc3084e020b5744c17888b471f99d507   109056     18-24  2021-07-07 12:12:30   \n",
       "1  b9fe1f921bdc232cb6ab15968aeb2fdb   115158     35-44  2021-11-10 11:26:30   \n",
       "2  26b44061ec0f3ce2fe2cc41e7c648568   105560     25-34  2021-04-27 11:27:02   \n",
       "3  2b28046a86cf0e4afc0911eea42cb4e1   114348   Unknown  2021-10-23 22:18:54   \n",
       "4  3f783386efd79a616acc8b66452887fd   108353     25-34  2021-06-24 04:37:29   \n",
       "\n",
       "   ride_id  driver_id           request_ts  ...            pickup_ts  \\\n",
       "0  3000130     116060  2021-12-01 16:11:00  ...  2021-12-01 16:19:00   \n",
       "1  3000172     102602  2021-11-11 17:56:00  ...  2021-11-11 18:11:00   \n",
       "2  3000198     108125  2021-06-20 08:43:00  ...  2021-06-20 08:55:00   \n",
       "3  3000372     110636  2021-10-24 08:01:00  ...  2021-10-24 08:06:00   \n",
       "4  3000398     101257  2021-06-27 16:44:00  ...  2021-06-27 16:59:00   \n",
       "\n",
       "            dropoff_ts cancel_ts transaction_id purchase_amount_usd  \\\n",
       "0  2021-12-01 16:42:00       NaN       10000077               24.79   \n",
       "1  2021-11-11 18:36:00       NaN       10000097               13.92   \n",
       "2  2021-06-20 10:10:00       NaN       10000115               16.75   \n",
       "3  2021-10-24 08:39:00       NaN       10000220               18.17   \n",
       "4  2021-06-27 18:09:00       NaN       10000236               15.35   \n",
       "\n",
       "   charge_status       transaction_ts  review_id rating  \\\n",
       "0       Approved  2021-12-01 16:42:00      50052      1   \n",
       "1       Approved  2021-11-11 18:36:00      50063      1   \n",
       "2       Approved  2021-06-20 10:10:00      50074      1   \n",
       "3       Approved  2021-10-24 08:39:00      50150      2   \n",
       "4       Approved  2021-06-27 18:09:00      50159      2   \n",
       "\n",
       "                                                                                                                     review  \n",
       "0                                           Horrible service. The driver was reckless and drove well above the speed limit.  \n",
       "1                                       A nightmare experience. The driver was rude, and the car was in terrible condition.  \n",
       "2  Terrible experience with Metrocar. The driver never showed up, and I had to find an alternative means of transportation.  \n",
       "3                              A subpar experience. The driver seemed disinterested and did not follow the preferred route.  \n",
       "4                                     Not a great ride with Metrocar. The driver seemed inexperienced and drove recklessly.  \n",
       "\n",
       "[5 rows x 23 columns]"
      ]
     },
     "execution_count": 33,
     "metadata": {},
     "output_type": "execute_result"
    }
   ],
   "source": [
    "df.head()"
   ]
  },
  {
   "cell_type": "code",
   "execution_count": 34,
   "metadata": {},
   "outputs": [
    {
     "data": {
      "text/plain": [
       "Index(['app_download_key', 'platform', 'download_ts', 'session_id', 'user_id',\n",
       "       'age_range', 'signup_ts', 'ride_id', 'driver_id', 'request_ts',\n",
       "       'accept_ts', 'pickup_location', 'dropoff_location', 'pickup_ts',\n",
       "       'dropoff_ts', 'cancel_ts', 'transaction_id', 'purchase_amount_usd',\n",
       "       'charge_status', 'transaction_ts', 'review_id', 'rating', 'review'],\n",
       "      dtype='object')"
      ]
     },
     "execution_count": 34,
     "metadata": {},
     "output_type": "execute_result"
    }
   ],
   "source": [
    "df.columns"
   ]
  },
  {
   "cell_type": "code",
   "execution_count": 35,
   "metadata": {},
   "outputs": [],
   "source": [
    "df.drop(columns=['app_download_key', 'download_ts', 'session_id','signup_ts', 'ride_id','cancel_ts', 'transaction_id','charge_status', 'transaction_ts'],inplace=True)"
   ]
  },
  {
   "cell_type": "code",
   "execution_count": 36,
   "metadata": {},
   "outputs": [
    {
     "data": {
      "text/plain": [
       "platform\n",
       "android    11791\n",
       "ios        25280\n",
       "web         4112\n",
       "Name: platform, dtype: int64"
      ]
     },
     "execution_count": 36,
     "metadata": {},
     "output_type": "execute_result"
    }
   ],
   "source": [
    "df.groupby('platform')['platform'].count()"
   ]
  },
  {
   "cell_type": "code",
   "execution_count": 37,
   "metadata": {},
   "outputs": [],
   "source": [
    "def preprocess_text(text):\n",
    "    stop_words = set(stopwords.words('english'))\n",
    "    words = word_tokenize(text)\n",
    "    words = [word.lower() for word in words if word.isalpha() and word.lower() not in stop_words]\n",
    "    return words"
   ]
  },
  {
   "cell_type": "code",
   "execution_count": 38,
   "metadata": {},
   "outputs": [],
   "source": [
    "all_words = []\n",
    "for review in df['review']:\n",
    "    all_words.extend(preprocess_text(review))"
   ]
  },
  {
   "cell_type": "code",
   "execution_count": 39,
   "metadata": {},
   "outputs": [],
   "source": [
    "freq_dist = FreqDist(all_words)"
   ]
  },
  {
   "cell_type": "code",
   "execution_count": 40,
   "metadata": {},
   "outputs": [
    {
     "name": "stdout",
     "output_type": "stream",
     "text": [
      "Most common words:\n",
      "[('driver', 41183), ('ride', 16500), ('metrocar', 13297), ('service', 9317), ('experience', 9077), ('unprofessional', 7276), ('rude', 7218), ('uncomfortable', 7188), ('car', 7123), ('terrible', 6116), ('app', 5231), ('late', 5181), ('vehicle', 5093), ('poor', 5089), ('route', 5072), ('drove', 4211), ('canceled', 4210), ('leaving', 4210), ('stranded', 4210), ('disappointed', 4188)]\n"
     ]
    }
   ],
   "source": [
    "print(\"Most common words:\")\n",
    "print(freq_dist.most_common(20))  # Adjust the number based on your preference"
   ]
  },
  {
   "cell_type": "code",
   "execution_count": 41,
   "metadata": {},
   "outputs": [],
   "source": [
    "df_android=df[df['platform']=='android']\n",
    "df_ios=df[df['platform']=='ios']\n"
   ]
  },
  {
   "cell_type": "code",
   "execution_count": null,
   "metadata": {},
   "outputs": [],
   "source": []
  },
  {
   "cell_type": "code",
   "execution_count": 42,
   "metadata": {},
   "outputs": [
    {
     "name": "stdout",
     "output_type": "stream",
     "text": [
      "Most common words:\n",
      "[('driver', 11791), ('ride', 4687), ('metrocar', 3816), ('service', 2666), ('experience', 2618), ('uncomfortable', 2078), ('rude', 2077), ('unprofessional', 2066), ('car', 2013), ('terrible', 1766), ('app', 1485), ('poor', 1479), ('route', 1472), ('vehicle', 1471), ('late', 1417), ('disappointed', 1233), ('canceled', 1205), ('leaving', 1205), ('stranded', 1205), ('skills', 1192)]\n"
     ]
    }
   ],
   "source": [
    "all_words_android = []\n",
    "for review in df_android['review']:\n",
    "    all_words_android.extend(preprocess_text(review))\n",
    "freq_dist_android = FreqDist(all_words_android)\n",
    "print(\"Most common words:\")\n",
    "print(freq_dist_android.most_common(20))  # Adjust the number based on your preference    \n"
   ]
  },
  {
   "cell_type": "code",
   "execution_count": 43,
   "metadata": {},
   "outputs": [
    {
     "name": "stdout",
     "output_type": "stream",
     "text": [
      "Most common words:\n",
      "[('driver', 25280), ('ride', 10134), ('metrocar', 8163), ('service', 5779), ('experience', 5570), ('rude', 4431), ('unprofessional', 4424), ('car', 4405), ('uncomfortable', 4402), ('terrible', 3753), ('late', 3203), ('app', 3185), ('vehicle', 3139), ('poor', 3124), ('route', 3075), ('drove', 2639), ('canceled', 2575), ('leaving', 2575), ('stranded', 2575), ('skills', 2524)]\n"
     ]
    }
   ],
   "source": [
    "all_words_ios = []\n",
    "for review in df_ios['review']:\n",
    "    all_words_ios.extend(preprocess_text(review))\n",
    "freq_dist_ios = FreqDist(all_words_ios)\n",
    "print(\"Most common words:\")\n",
    "print(freq_dist_ios.most_common(20))  # Adjust the number based on your preference    \n"
   ]
  },
  {
   "cell_type": "code",
   "execution_count": 44,
   "metadata": {},
   "outputs": [
    {
     "name": "stdout",
     "output_type": "stream",
     "text": [
      "                                                                                                                         review  \\\n",
      "0                                               Horrible service. The driver was reckless and drove well above the speed limit.   \n",
      "1                                           A nightmare experience. The driver was rude, and the car was in terrible condition.   \n",
      "2      Terrible experience with Metrocar. The driver never showed up, and I had to find an alternative means of transportation.   \n",
      "3                                  A subpar experience. The driver seemed disinterested and did not follow the preferred route.   \n",
      "4                                         Not a great ride with Metrocar. The driver seemed inexperienced and drove recklessly.   \n",
      "...                                                                                                                         ...   \n",
      "41178                                Worst ride ever. The driver took a completely wrong route, and the car broke down halfway.   \n",
      "41179                           Extremely disappointed. The driver was rude and unprofessional, and the ride was uncomfortable.   \n",
      "41180                                Worst ride ever. The driver took a completely wrong route, and the car broke down halfway.   \n",
      "41181                 Had some serious issues with Metrocar. The driver got lost multiple times and had poor navigation skills.   \n",
      "41182                                Worst ride ever. The driver took a completely wrong route, and the car broke down halfway.   \n",
      "\n",
      "       compound_score sentiment_label  \n",
      "0             -0.6249        negative  \n",
      "1             -0.7269        negative  \n",
      "2             -0.4767        negative  \n",
      "3              0.0000        positive  \n",
      "4             -0.5096        negative  \n",
      "...               ...             ...  \n",
      "41178         -0.8832        negative  \n",
      "41179         -0.9061        negative  \n",
      "41180         -0.8832        negative  \n",
      "41181         -0.6908        negative  \n",
      "41182         -0.8832        negative  \n",
      "\n",
      "[41183 rows x 3 columns]\n"
     ]
    }
   ],
   "source": [
    "sia = SentimentIntensityAnalyzer()\n",
    "\n",
    "def get_sentiment_scores(text):\n",
    "    return sia.polarity_scores(text)\n",
    "\n",
    "# Apply the sentiment analyzer to the 'review' column\n",
    "df['sentiment_scores'] = df['review'].apply(get_sentiment_scores)\n",
    "\n",
    "# Extract compound scores (overall sentiment) and assign labels\n",
    "df['compound_score'] = df['sentiment_scores'].apply(lambda x: x['compound'])\n",
    "df['sentiment_label'] = df['compound_score'].apply(lambda x: 'positive' if x >= 0 else 'negative')\n",
    "\n",
    "# Display the results\n",
    "print(df[['review', 'compound_score', 'sentiment_label']])"
   ]
  },
  {
   "cell_type": "code",
   "execution_count": 45,
   "metadata": {},
   "outputs": [],
   "source": [
    "df_very_bad=df[(df['compound_score']<df['compound_score'].mean())]"
   ]
  },
  {
   "cell_type": "code",
   "execution_count": null,
   "metadata": {},
   "outputs": [],
   "source": []
  },
  {
   "cell_type": "code",
   "execution_count": 46,
   "metadata": {},
   "outputs": [],
   "source": [
    "\n",
    "tokenized_reviews = [preprocess_text(review) for review in df['review']]"
   ]
  },
  {
   "cell_type": "code",
   "execution_count": 47,
   "metadata": {},
   "outputs": [],
   "source": [
    "# Flatten the list of lists\n",
    "flat_tokenized_reviews = [word for sublist in tokenized_reviews for word in sublist]\n",
    "\n",
    "# Create TrigramCollocationFinder\n",
    "finder = TrigramCollocationFinder.from_words(flat_tokenized_reviews)"
   ]
  },
  {
   "cell_type": "code",
   "execution_count": 48,
   "metadata": {},
   "outputs": [
    {
     "data": {
      "text/plain": [
       "[(('ride', 'metrocar', 'driver'), 5155),\n",
       " (('driver', 'canceled', 'ride'), 4210),\n",
       " (('driver', 'rude', 'car'), 4099),\n",
       " (('experience', 'metrocar', 'driver'), 4028),\n",
       " (('complete', 'disaster', 'driver'), 3220),\n",
       " (('disaster', 'driver', 'canceled'), 3220),\n",
       " (('canceled', 'ride', 'last'), 3220),\n",
       " (('ride', 'last', 'minute'), 3220),\n",
       " (('last', 'minute', 'leaving'), 3220),\n",
       " (('minute', 'leaving', 'stranded'), 3220)]"
      ]
     },
     "execution_count": 48,
     "metadata": {},
     "output_type": "execute_result"
    }
   ],
   "source": [
    "finder.ngram_fd.most_common(10)"
   ]
  },
  {
   "cell_type": "code",
   "execution_count": 49,
   "metadata": {},
   "outputs": [],
   "source": [
    "finder4 = QuadgramCollocationFinder.from_words(flat_tokenized_reviews)"
   ]
  },
  {
   "cell_type": "code",
   "execution_count": 50,
   "metadata": {},
   "outputs": [
    {
     "data": {
      "text/plain": [
       "[(('complete', 'disaster', 'driver', 'canceled'), 3220),\n",
       " (('disaster', 'driver', 'canceled', 'ride'), 3220),\n",
       " (('driver', 'canceled', 'ride', 'last'), 3220),\n",
       " (('canceled', 'ride', 'last', 'minute'), 3220),\n",
       " (('ride', 'last', 'minute', 'leaving'), 3220),\n",
       " (('last', 'minute', 'leaving', 'stranded'), 3220),\n",
       " (('minute', 'leaving', 'stranded', 'unfamiliar'), 3220),\n",
       " (('leaving', 'stranded', 'unfamiliar', 'location'), 3220),\n",
       " (('unreliable', 'unprofessional', 'driver', 'late'), 3165),\n",
       " (('unprofessional', 'driver', 'late', 'app'), 3165),\n",
       " (('driver', 'late', 'app', 'crashed'), 3165),\n",
       " (('late', 'app', 'crashed', 'repeatedly'), 3165),\n",
       " (('horrible', 'service', 'driver', 'reckless'), 3155),\n",
       " (('service', 'driver', 'reckless', 'drove'), 3155),\n",
       " (('driver', 'reckless', 'drove', 'well'), 3155),\n",
       " (('reckless', 'drove', 'well', 'speed'), 3155),\n",
       " (('drove', 'well', 'speed', 'limit'), 3155),\n",
       " (('extremely', 'disappointed', 'driver', 'rude'), 3119),\n",
       " (('disappointed', 'driver', 'rude', 'unprofessional'), 3119),\n",
       " (('driver', 'rude', 'unprofessional', 'ride'), 3119)]"
      ]
     },
     "execution_count": 50,
     "metadata": {},
     "output_type": "execute_result"
    }
   ],
   "source": [
    "finder4.ngram_fd.most_common(20)"
   ]
  },
  {
   "cell_type": "code",
   "execution_count": 51,
   "metadata": {},
   "outputs": [
    {
     "data": {
      "text/plain": [
       "[(('ride', 'metrocar', 'driver'), 1464),\n",
       " (('driver', 'canceled', 'ride'), 1205),\n",
       " (('driver', 'rude', 'car'), 1169),\n",
       " (('experience', 'metrocar', 'driver'), 1141),\n",
       " (('complete', 'disaster', 'driver'), 922),\n",
       " (('disaster', 'driver', 'canceled'), 922),\n",
       " (('canceled', 'ride', 'last'), 922),\n",
       " (('ride', 'last', 'minute'), 922),\n",
       " (('last', 'minute', 'leaving'), 922),\n",
       " (('minute', 'leaving', 'stranded'), 922),\n",
       " (('leaving', 'stranded', 'unfamiliar'), 922),\n",
       " (('stranded', 'unfamiliar', 'location'), 922),\n",
       " (('extremely', 'disappointed', 'driver'), 908),\n",
       " (('disappointed', 'driver', 'rude'), 908),\n",
       " (('driver', 'rude', 'unprofessional'), 908),\n",
       " (('rude', 'unprofessional', 'ride'), 908),\n",
       " (('unprofessional', 'ride', 'uncomfortable'), 908),\n",
       " (('unacceptable', 'service', 'driver'), 904),\n",
       " (('service', 'driver', 'disrespectful'), 904),\n",
       " (('driver', 'disrespectful', 'vehicle'), 904)]"
      ]
     },
     "execution_count": 51,
     "metadata": {},
     "output_type": "execute_result"
    }
   ],
   "source": [
    "\n",
    "tokenized_reviews_android = [preprocess_text(review) for review in df_android['review']]\n",
    "# Flatten the list of lists\n",
    "flat_tokenized_reviews_android = [word for sublist in tokenized_reviews_android for word in sublist]\n",
    "\n",
    "# Create TrigramCollocationFinder\n",
    "finder_android = TrigramCollocationFinder.from_words(flat_tokenized_reviews_android)\n",
    "finder_android.ngram_fd.most_common(20)"
   ]
  },
  {
   "cell_type": "code",
   "execution_count": 52,
   "metadata": {},
   "outputs": [
    {
     "data": {
      "text/plain": [
       "[(('ride', 'metrocar', 'driver'), 3200),\n",
       " (('driver', 'canceled', 'ride'), 2575),\n",
       " (('driver', 'rude', 'car'), 2549),\n",
       " (('experience', 'metrocar', 'driver'), 2476),\n",
       " (('horrible', 'service', 'driver'), 1986),\n",
       " (('service', 'driver', 'reckless'), 1986),\n",
       " (('driver', 'reckless', 'drove'), 1986),\n",
       " (('reckless', 'drove', 'well'), 1986),\n",
       " (('drove', 'well', 'speed'), 1986),\n",
       " (('well', 'speed', 'limit'), 1986),\n",
       " (('complete', 'disaster', 'driver'), 1964),\n",
       " (('disaster', 'driver', 'canceled'), 1964),\n",
       " (('canceled', 'ride', 'last'), 1964),\n",
       " (('ride', 'last', 'minute'), 1964),\n",
       " (('last', 'minute', 'leaving'), 1964),\n",
       " (('minute', 'leaving', 'stranded'), 1964),\n",
       " (('leaving', 'stranded', 'unfamiliar'), 1964),\n",
       " (('stranded', 'unfamiliar', 'location'), 1964),\n",
       " (('unreliable', 'unprofessional', 'driver'), 1942),\n",
       " (('unprofessional', 'driver', 'late'), 1942)]"
      ]
     },
     "execution_count": 52,
     "metadata": {},
     "output_type": "execute_result"
    }
   ],
   "source": [
    "\n",
    "tokenized_reviews_ios= [preprocess_text(review) for review in df_ios['review']]\n",
    "# Flatten the list of lists\n",
    "flat_tokenized_reviews_ios = [word for sublist in tokenized_reviews_ios for word in sublist]\n",
    "\n",
    "# Create TrigramCollocationFinder\n",
    "finder_ios = TrigramCollocationFinder.from_words(flat_tokenized_reviews_ios)\n",
    "finder_ios.ngram_fd.most_common(20)"
   ]
  },
  {
   "cell_type": "code",
   "execution_count": 53,
   "metadata": {},
   "outputs": [
    {
     "data": {
      "text/plain": [
       "[(('complete', 'disaster', 'driver', 'canceled'), 922),\n",
       " (('disaster', 'driver', 'canceled', 'ride'), 922),\n",
       " (('driver', 'canceled', 'ride', 'last'), 922),\n",
       " (('canceled', 'ride', 'last', 'minute'), 922),\n",
       " (('ride', 'last', 'minute', 'leaving'), 922),\n",
       " (('last', 'minute', 'leaving', 'stranded'), 922),\n",
       " (('minute', 'leaving', 'stranded', 'unfamiliar'), 922),\n",
       " (('leaving', 'stranded', 'unfamiliar', 'location'), 922),\n",
       " (('extremely', 'disappointed', 'driver', 'rude'), 908),\n",
       " (('disappointed', 'driver', 'rude', 'unprofessional'), 908),\n",
       " (('driver', 'rude', 'unprofessional', 'ride'), 908),\n",
       " (('rude', 'unprofessional', 'ride', 'uncomfortable'), 908),\n",
       " (('unacceptable', 'service', 'driver', 'disrespectful'), 904),\n",
       " (('service', 'driver', 'disrespectful', 'vehicle'), 904),\n",
       " (('driver', 'disrespectful', 'vehicle', 'dirty'), 904),\n",
       " (('disrespectful', 'vehicle', 'dirty', 'uncomfortable'), 904),\n",
       " (('absolutely', 'disgusted', 'metrocar', 'driver'), 900),\n",
       " (('disgusted', 'metrocar', 'driver', 'overcharged'), 900),\n",
       " (('metrocar', 'driver', 'overcharged', 'refused'), 900),\n",
       " (('driver', 'overcharged', 'refused', 'rectify'), 900)]"
      ]
     },
     "execution_count": 53,
     "metadata": {},
     "output_type": "execute_result"
    }
   ],
   "source": [
    "# Create QuadgramCollocationFinder\n",
    "finder_android_4 = QuadgramCollocationFinder.from_words(flat_tokenized_reviews_android)\n",
    "finder_android_4.ngram_fd.most_common(20)"
   ]
  },
  {
   "cell_type": "code",
   "execution_count": 54,
   "metadata": {},
   "outputs": [
    {
     "data": {
      "text/plain": [
       "[(('horrible', 'service', 'driver', 'reckless'), 1986),\n",
       " (('service', 'driver', 'reckless', 'drove'), 1986),\n",
       " (('driver', 'reckless', 'drove', 'well'), 1986),\n",
       " (('reckless', 'drove', 'well', 'speed'), 1986),\n",
       " (('drove', 'well', 'speed', 'limit'), 1986),\n",
       " (('complete', 'disaster', 'driver', 'canceled'), 1964),\n",
       " (('disaster', 'driver', 'canceled', 'ride'), 1964),\n",
       " (('driver', 'canceled', 'ride', 'last'), 1964),\n",
       " (('canceled', 'ride', 'last', 'minute'), 1964),\n",
       " (('ride', 'last', 'minute', 'leaving'), 1964),\n",
       " (('last', 'minute', 'leaving', 'stranded'), 1964),\n",
       " (('minute', 'leaving', 'stranded', 'unfamiliar'), 1964),\n",
       " (('leaving', 'stranded', 'unfamiliar', 'location'), 1964),\n",
       " (('unreliable', 'unprofessional', 'driver', 'late'), 1942),\n",
       " (('unprofessional', 'driver', 'late', 'app'), 1942),\n",
       " (('driver', 'late', 'app', 'crashed'), 1942),\n",
       " (('late', 'app', 'crashed', 'repeatedly'), 1942),\n",
       " (('unsafe', 'ride', 'metrocar', 'driver'), 1907),\n",
       " (('ride', 'metrocar', 'driver', 'distracted'), 1907),\n",
       " (('metrocar', 'driver', 'distracted', 'poor'), 1907)]"
      ]
     },
     "execution_count": 54,
     "metadata": {},
     "output_type": "execute_result"
    }
   ],
   "source": [
    "# Create QuadgramCollocationFinder\n",
    "finder_ios_4 = QuadgramCollocationFinder.from_words(flat_tokenized_reviews_ios)\n",
    "finder_ios_4.ngram_fd.most_common(20)"
   ]
  },
  {
   "cell_type": "markdown",
   "metadata": {},
   "source": []
  },
  {
   "cell_type": "code",
   "execution_count": 55,
   "metadata": {},
   "outputs": [
    {
     "data": {
      "text/plain": [
       "0                                              Horrible service. The driver was reckless and drove well above the speed limit.\n",
       "1                                          A nightmare experience. The driver was rude, and the car was in terrible condition.\n",
       "2     Terrible experience with Metrocar. The driver never showed up, and I had to find an alternative means of transportation.\n",
       "3                                 A subpar experience. The driver seemed disinterested and did not follow the preferred route.\n",
       "4                                        Not a great ride with Metrocar. The driver seemed inexperienced and drove recklessly.\n",
       "5                             Unacceptable service. The driver was disrespectful, and the vehicle was dirty and uncomfortable.\n",
       "6                                   Worst ride ever. The driver took a completely wrong route, and the car broke down halfway.\n",
       "7                                 A subpar experience. The driver seemed disinterested and did not follow the preferred route.\n",
       "8                             Unacceptable service. The driver was disrespectful, and the vehicle was dirty and uncomfortable.\n",
       "9                                          Unreliable and unprofessional. The driver was late, and the app crashed repeatedly.\n",
       "10                            Unacceptable service. The driver was disrespectful, and the vehicle was dirty and uncomfortable.\n",
       "11                                A subpar experience. The driver seemed disinterested and did not follow the preferred route.\n",
       "12                             Extremely disappointed. The driver was rude and unprofessional, and the ride was uncomfortable.\n",
       "13                                  Worst ride ever. The driver took a completely wrong route, and the car broke down halfway.\n",
       "14    Terrible experience with Metrocar. The driver never showed up, and I had to find an alternative means of transportation.\n",
       "15                                         Unreliable and unprofessional. The driver was late, and the app crashed repeatedly.\n",
       "16    Terrible experience with Metrocar. The driver never showed up, and I had to find an alternative means of transportation.\n",
       "17                        A frustrating experience. The driver canceled the ride without any explanation, leaving me stranded.\n",
       "18                                  Worst ride ever. The driver took a completely wrong route, and the car broke down halfway.\n",
       "19                            Unacceptable service. The driver was disrespectful, and the vehicle was dirty and uncomfortable.\n",
       "20                                             Horrible service. The driver was reckless and drove well above the speed limit.\n",
       "21                                  Worst ride ever. The driver took a completely wrong route, and the car broke down halfway.\n",
       "22                                             Horrible service. The driver was reckless and drove well above the speed limit.\n",
       "23                                         Unreliable and unprofessional. The driver was late, and the app crashed repeatedly.\n",
       "24                                         Unreliable and unprofessional. The driver was late, and the app crashed repeatedly.\n",
       "25                           Disappointed with the service. The driver took a longer route, and the app had constant glitches.\n",
       "26                      Below average experience with Metrocar. The driver arrived late, and the ride was quite uncomfortable.\n",
       "27                                           Unsafe ride with Metrocar. The driver was distracted and had poor driving skills.\n",
       "28                             Extremely disappointed. The driver was rude and unprofessional, and the ride was uncomfortable.\n",
       "29                        A frustrating experience. The driver canceled the ride without any explanation, leaving me stranded.\n",
       "30                                  Worst ride ever. The driver took a completely wrong route, and the car broke down halfway.\n",
       "31                             Absolutely disgusted with Metrocar. The driver overcharged me and refused to rectify the issue.\n",
       "32                                           Unsafe ride with Metrocar. The driver was distracted and had poor driving skills.\n",
       "33               A complete disaster. The driver canceled the ride last minute, leaving me stranded in an unfamiliar location.\n",
       "34                           Disappointed with the service. The driver took a longer route, and the app had constant glitches.\n",
       "35                             Absolutely disgusted with Metrocar. The driver overcharged me and refused to rectify the issue.\n",
       "36                             Extremely disappointed. The driver was rude and unprofessional, and the ride was uncomfortable.\n",
       "37                                           Unsafe ride with Metrocar. The driver was distracted and had poor driving skills.\n",
       "38                                             Horrible service. The driver was reckless and drove well above the speed limit.\n",
       "39                                         Unreliable and unprofessional. The driver was late, and the app crashed repeatedly.\n",
       "40                             Extremely disappointed. The driver was rude and unprofessional, and the ride was uncomfortable.\n",
       "41                                         Unreliable and unprofessional. The driver was late, and the app crashed repeatedly.\n",
       "42                                       Not a great ride with Metrocar. The driver seemed inexperienced and drove recklessly.\n",
       "43                            Unacceptable service. The driver was disrespectful, and the vehicle was dirty and uncomfortable.\n",
       "44                                         Unreliable and unprofessional. The driver was late, and the app crashed repeatedly.\n",
       "45                                           Unsafe ride with Metrocar. The driver was distracted and had poor driving skills.\n",
       "46                                             Unsatisfactory service overall. The driver was rude, and the car was not clean.\n",
       "47                             Absolutely disgusted with Metrocar. The driver overcharged me and refused to rectify the issue.\n",
       "48                            Unacceptable service. The driver was disrespectful, and the vehicle was dirty and uncomfortable.\n",
       "49               A complete disaster. The driver canceled the ride last minute, leaving me stranded in an unfamiliar location.\n",
       "Name: review, dtype: object"
      ]
     },
     "execution_count": 55,
     "metadata": {},
     "output_type": "execute_result"
    }
   ],
   "source": [
    "pd.set_option('display.max_colwidth', None)\n",
    "df['review'].head(50)"
   ]
  },
  {
   "cell_type": "code",
   "execution_count": 56,
   "metadata": {},
   "outputs": [],
   "source": [
    "# import matplotlib.pyplot as plt\n",
    "# from wordcloud import WordCloud\n",
    "# from wordcloud import STOPWORDS"
   ]
  },
  {
   "cell_type": "code",
   "execution_count": null,
   "metadata": {},
   "outputs": [],
   "source": []
  },
  {
   "cell_type": "code",
   "execution_count": null,
   "metadata": {},
   "outputs": [],
   "source": []
  },
  {
   "cell_type": "code",
   "execution_count": null,
   "metadata": {},
   "outputs": [],
   "source": []
  }
 ],
 "metadata": {
  "kernelspec": {
   "display_name": "Python 3.8.8 ('base')",
   "language": "python",
   "name": "python3"
  },
  "language_info": {
   "codemirror_mode": {
    "name": "ipython",
    "version": 3
   },
   "file_extension": ".py",
   "mimetype": "text/x-python",
   "name": "python",
   "nbconvert_exporter": "python",
   "pygments_lexer": "ipython3",
   "version": "3.8.8"
  },
  "orig_nbformat": 4,
  "vscode": {
   "interpreter": {
    "hash": "724c414b1df891b9cb98d34814f01369f7a1f3f974675e3b5acec2b6c6999d2e"
   }
  }
 },
 "nbformat": 4,
 "nbformat_minor": 2
}
